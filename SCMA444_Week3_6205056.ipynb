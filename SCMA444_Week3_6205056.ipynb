{
 "cells": [
  {
   "cell_type": "markdown",
   "id": "eca3d628",
   "metadata": {},
   "source": [
    "## Tower of hanoi (5 disks)\n"
   ]
  },
  {
   "cell_type": "markdown",
   "id": "4c0146d3",
   "metadata": {},
   "source": [
    "### Node\n",
    "The input value for position is should be nested list which represent 3 poles. <br/> \n",
    "For the disks, the value = size i.e 1 is smallest (top), 5 is the biggest (bottom)\n",
    "* position: the current location of the disk.\n",
    "* parent: the parent of this node; used for tracing back the steps of actions from goal to root node. \n",
    "<br/>\n",
    "\n",
    "\\**initial node: value of position is [[1,2,3,4,5],[],[]]<br/>\n",
    "&emsp;&emsp;&emsp;&emsp;&emsp;&emsp; value of parent is None"
   ]
  },
  {
   "cell_type": "code",
   "execution_count": 2,
   "id": "eb082021",
   "metadata": {},
   "outputs": [],
   "source": [
    "class Node():\n",
    "    def __init__(self, position, parent):\n",
    "        self.position = position\n",
    "        self.parent = parent"
   ]
  },
  {
   "cell_type": "markdown",
   "id": "50011f91",
   "metadata": {},
   "source": [
    "### Goal\n",
    "\n",
    "Find the condition to stop the puzzle\n",
    "\n",
    "The values should be [[],[],[1,2,3,4,5]]"
   ]
  },
  {
   "cell_type": "code",
   "execution_count": 7,
   "id": "8403df34",
   "metadata": {},
   "outputs": [],
   "source": [
    "def goalCheck(node):\n",
    "    check = False\n",
    "    position = node.position\n",
    "    \n",
    "    if position == [[],[],[1,2,3,4,5]]:\n",
    "        check = True\n",
    "    \n",
    "    return(check)"
   ]
  },
  {
   "cell_type": "code",
   "execution_count": 13,
   "id": "15de05ab",
   "metadata": {},
   "outputs": [
    {
     "name": "stdout",
     "output_type": "stream",
     "text": [
      "Position [[1, 2, 3, 4, 5], [], []]\n"
     ]
    },
    {
     "data": {
      "text/plain": [
       "False"
      ]
     },
     "execution_count": 13,
     "metadata": {},
     "output_type": "execute_result"
    }
   ],
   "source": [
    "initial = Node([[1,2,3,4,5],[],[]], None)\n",
    "print(\"Position\", initial.position)\n",
    "goalCheck(initial)"
   ]
  },
  {
   "cell_type": "code",
   "execution_count": 15,
   "id": "42254522",
   "metadata": {},
   "outputs": [
    {
     "name": "stdout",
     "output_type": "stream",
     "text": [
      "Position [[], [], [1, 2, 3, 4, 5]]\n"
     ]
    },
    {
     "data": {
      "text/plain": [
       "True"
      ]
     },
     "execution_count": 15,
     "metadata": {},
     "output_type": "execute_result"
    }
   ],
   "source": [
    "goal = Node([[],[],[1,2,3,4,5]], None)\n",
    "print(\"Position\", goal.position)\n",
    "goalCheck(goal)"
   ]
  }
 ],
 "metadata": {
  "kernelspec": {
   "display_name": "Python 3",
   "language": "python",
   "name": "python3"
  },
  "language_info": {
   "codemirror_mode": {
    "name": "ipython",
    "version": 3
   },
   "file_extension": ".py",
   "mimetype": "text/x-python",
   "name": "python",
   "nbconvert_exporter": "python",
   "pygments_lexer": "ipython3",
   "version": "3.8.8"
  }
 },
 "nbformat": 4,
 "nbformat_minor": 5
}
