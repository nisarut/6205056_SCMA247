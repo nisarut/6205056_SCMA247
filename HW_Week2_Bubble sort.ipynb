{
 "cells": [
  {
   "cell_type": "code",
   "execution_count": 5,
   "id": "de9c4430",
   "metadata": {},
   "outputs": [],
   "source": [
    "def bubble_sort(x):\n",
    "    swapped = False\n",
    "    while swapped == False:\n",
    "        for i in range (len(x)-1):\n",
    "            if x[i]>x[i+1]:\n",
    "                swap(x,i,i+1)\n",
    "                swapped = True\n",
    "        if swapped == False:\n",
    "            break\n",
    "        \n",
    "        swapped = False\n",
    "        \n",
    "    \n",
    "    print(x)\n",
    "\n",
    "                \n",
    "def swap(x,i,j):\n",
    "    s = x[i]\n",
    "    x[i] = x[j]\n",
    "    x[j] = s\n",
    "    return x                "
   ]
  },
  {
   "cell_type": "code",
   "execution_count": 6,
   "id": "155ef4f2",
   "metadata": {},
   "outputs": [
    {
     "name": "stdout",
     "output_type": "stream",
     "text": [
      "[-7, -5, -3, 0, 1, 2, 4, 6, 8, 8, 9]\n"
     ]
    }
   ],
   "source": [
    "a = [0,9,8,8,-7,6,-5,4,-3,2,1]\n",
    "\n",
    "bubble_sort(a)"
   ]
  },
  {
   "cell_type": "code",
   "execution_count": null,
   "id": "fa18a623",
   "metadata": {},
   "outputs": [],
   "source": []
  }
 ],
 "metadata": {
  "kernelspec": {
   "display_name": "Python 3",
   "language": "python",
   "name": "python3"
  },
  "language_info": {
   "codemirror_mode": {
    "name": "ipython",
    "version": 3
   },
   "file_extension": ".py",
   "mimetype": "text/x-python",
   "name": "python",
   "nbconvert_exporter": "python",
   "pygments_lexer": "ipython3",
   "version": "3.8.8"
  }
 },
 "nbformat": 4,
 "nbformat_minor": 5
}
