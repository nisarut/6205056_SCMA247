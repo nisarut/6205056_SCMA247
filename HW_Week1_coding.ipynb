{
 "cells": [
  {
   "cell_type": "markdown",
   "id": "cfd3adc6",
   "metadata": {},
   "source": [
    "### Algorithm with Linear running time"
   ]
  },
  {
   "cell_type": "code",
   "execution_count": 81,
   "id": "12b911cd",
   "metadata": {},
   "outputs": [],
   "source": [
    "def linear_mul(x):\n",
    "    s = 1\n",
    "    t = 0\n",
    "    for i in range (len(x)):\n",
    "        s = s*x[i]\n",
    "        t = t+1\n",
    "    print('The size of input is:',len(x))\n",
    "    print('The total number of elementary operations is:',t)\n",
    "    return s\n",
    "\n",
    "\n",
    "a = [1,2,3,4,5,6]\n"
   ]
  },
  {
   "cell_type": "code",
   "execution_count": 82,
   "id": "655a09e0",
   "metadata": {
    "scrolled": true
   },
   "outputs": [
    {
     "name": "stdout",
     "output_type": "stream",
     "text": [
      "The size of input is: 6\n",
      "The total number of elementary operations is: 6\n"
     ]
    },
    {
     "data": {
      "text/plain": [
       "720"
      ]
     },
     "execution_count": 82,
     "metadata": {},
     "output_type": "execute_result"
    }
   ],
   "source": [
    "linear_mul(a)"
   ]
  },
  {
   "cell_type": "markdown",
   "id": "05fbbc32",
   "metadata": {},
   "source": [
    "### Algorithm with Quadratic running time"
   ]
  },
  {
   "cell_type": "code",
   "execution_count": 92,
   "id": "ada20f69",
   "metadata": {},
   "outputs": [],
   "source": [
    "def quad(x):\n",
    "    m = int(len(x)/2)\n",
    "    t = 0\n",
    "    s = 1\n",
    "    for i in range (m):\n",
    "        for j in range (m-1):\n",
    "            s = s*x[i+j]\n",
    "            t = t+2\n",
    "    print('The size of input is:',len(x))\n",
    "    print('The total number of elementary operations is:',t)\n",
    "    return s\n",
    "\n",
    "\n",
    "a = [1,2,3,4,5,6]"
   ]
  },
  {
   "cell_type": "code",
   "execution_count": 93,
   "id": "628f33ea",
   "metadata": {},
   "outputs": [
    {
     "name": "stdout",
     "output_type": "stream",
     "text": [
      "The size of input is: 6\n",
      "The total number of elementary operations is: 12\n"
     ]
    },
    {
     "data": {
      "text/plain": [
       "144"
      ]
     },
     "execution_count": 93,
     "metadata": {},
     "output_type": "execute_result"
    }
   ],
   "source": [
    "quad(a)"
   ]
  },
  {
   "cell_type": "markdown",
   "id": "1faa315f",
   "metadata": {},
   "source": [
    "### Algorithm with Cubic running time"
   ]
  },
  {
   "cell_type": "code",
   "execution_count": 96,
   "id": "6f1dd122",
   "metadata": {},
   "outputs": [],
   "source": [
    "def cube(x):\n",
    "    m = int(len(x)/2)\n",
    "    t = 0\n",
    "    s = 1\n",
    "    for i in range (m-1):\n",
    "        for j in range (m-1):\n",
    "            s = s*x[i+j]\n",
    "            for k in range (m):\n",
    "                s = s + x[k]\n",
    "                t = t+3\n",
    "    print('The size of input is:',len(x))\n",
    "    print('The total number of elementary operations is:',t)\n",
    "    return s\n",
    "\n",
    "a = [1,2,3,4,5,6]"
   ]
  },
  {
   "cell_type": "code",
   "execution_count": 97,
   "id": "1834e5fb",
   "metadata": {},
   "outputs": [
    {
     "name": "stdout",
     "output_type": "stream",
     "text": [
      "The size of input is: 6\n",
      "The total number of elementary operations is: 36\n"
     ]
    },
    {
     "data": {
      "text/plain": [
       "144"
      ]
     },
     "execution_count": 97,
     "metadata": {},
     "output_type": "execute_result"
    }
   ],
   "source": [
    "cube(a)"
   ]
  }
 ],
 "metadata": {
  "kernelspec": {
   "display_name": "Python 3",
   "language": "python",
   "name": "python3"
  },
  "language_info": {
   "codemirror_mode": {
    "name": "ipython",
    "version": 3
   },
   "file_extension": ".py",
   "mimetype": "text/x-python",
   "name": "python",
   "nbconvert_exporter": "python",
   "pygments_lexer": "ipython3",
   "version": "3.8.8"
  }
 },
 "nbformat": 4,
 "nbformat_minor": 5
}
