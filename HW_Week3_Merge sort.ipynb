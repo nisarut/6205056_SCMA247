{
 "cells": [
  {
   "cell_type": "markdown",
   "id": "f3613cb0",
   "metadata": {},
   "source": [
    "### Merge sort for array"
   ]
  },
  {
   "cell_type": "code",
   "execution_count": 11,
   "id": "083621f4",
   "metadata": {},
   "outputs": [],
   "source": [
    "def merge_sort(x):\n",
    "    if len(x) > 1:\n",
    "        m = int(len(x)/2)\n",
    "        return merge(merge_sort(x[0:m]),merge_sort(x[m:len(x)]))\n",
    "    else:\n",
    "        return x"
   ]
  },
  {
   "cell_type": "code",
   "execution_count": 12,
   "id": "fd0b32e7",
   "metadata": {},
   "outputs": [],
   "source": [
    "def merge(x,y):\n",
    "    i = 0\n",
    "    j = 0\n",
    "    t = []\n",
    "    while i < len(x) and j < len(y):\n",
    "        if x[i] <= y[j]:\n",
    "            t.append(x[i])\n",
    "            i = i+1\n",
    "        else:\n",
    "            t.append(y[j])\n",
    "            j = j+1\n",
    "    while i < len(x):\n",
    "        t.append(x[i])\n",
    "        i = i+1\n",
    "    while j < len(y):\n",
    "        t.append(y[j])\n",
    "        j = j+1\n",
    "    return t"
   ]
  },
  {
   "cell_type": "code",
   "execution_count": 13,
   "id": "5520f79c",
   "metadata": {},
   "outputs": [
    {
     "data": {
      "text/plain": [
       "[-7, -5, -3, 0, 1, 2, 4, 6, 8, 8, 9]"
      ]
     },
     "execution_count": 13,
     "metadata": {},
     "output_type": "execute_result"
    }
   ],
   "source": [
    "a = [0,9,8,8,-7,6,-5,4,-3,2,1]\n",
    "merge_sort(a)"
   ]
  },
  {
   "cell_type": "code",
   "execution_count": null,
   "id": "6c08d23d",
   "metadata": {},
   "outputs": [],
   "source": []
  }
 ],
 "metadata": {
  "kernelspec": {
   "display_name": "Python 3",
   "language": "python",
   "name": "python3"
  },
  "language_info": {
   "codemirror_mode": {
    "name": "ipython",
    "version": 3
   },
   "file_extension": ".py",
   "mimetype": "text/x-python",
   "name": "python",
   "nbconvert_exporter": "python",
   "pygments_lexer": "ipython3",
   "version": "3.8.8"
  }
 },
 "nbformat": 4,
 "nbformat_minor": 5
}
