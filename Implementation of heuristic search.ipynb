{
 "cells": [
  {
   "cell_type": "markdown",
   "id": "eca3d628",
   "metadata": {},
   "source": [
    "## Tower of hanoi (5 disks)"
   ]
  },
  {
   "cell_type": "code",
   "execution_count": 68,
   "id": "db9b4dcd",
   "metadata": {},
   "outputs": [],
   "source": [
    "import copy\n",
    "import math\n",
    "import numpy as np"
   ]
  },
  {
   "cell_type": "markdown",
   "id": "4c0146d3",
   "metadata": {},
   "source": [
    "### Node\n",
    "The input value for position is should be nested list which represent 3 poles. <br/> \n",
    "For the disks, the value = size i.e 1 is smallest (top), 3 is the biggest (bottom)\n",
    "* position: the current location of the disk.\n",
    "* parent: the parent of this node; used for tracing back the steps of actions from goal to root node.\n",
    "* cost: number of move\n",
    "* h: number of disk is incorrect rod\n",
    "<br/>\n",
    "\n",
    "\\**initial node: value of position is [[1,2,3,4,5],[],[]]<br/>\n",
    "&emsp;&emsp;&emsp;&emsp;&emsp;&emsp; value of parent is None"
   ]
  },
  {
   "cell_type": "code",
   "execution_count": 69,
   "id": "eb082021",
   "metadata": {},
   "outputs": [],
   "source": [
    "class Node():\n",
    "    def __init__(self, position, parent, cost, h):\n",
    "        self.position = position\n",
    "        self.parent = parent\n",
    "        self.cost = cost\n",
    "        self.h = h"
   ]
  },
  {
   "cell_type": "markdown",
   "id": "50011f91",
   "metadata": {},
   "source": [
    "### Goal\n",
    "\n",
    "Find the condition to stop the puzzle\n",
    "\n",
    "The values should be [[],[],[1,2,3,4,5]]"
   ]
  },
  {
   "cell_type": "code",
   "execution_count": 78,
   "id": "8403df34",
   "metadata": {},
   "outputs": [],
   "source": [
    "def goalCheck(node):\n",
    "    check = False\n",
    "    position = node.position\n",
    "    \n",
    "    if position == [[],[],[1,2,3,4,5]]:\n",
    "        check = True\n",
    "    \n",
    "    return(check)"
   ]
  },
  {
   "cell_type": "markdown",
   "id": "75475fd4",
   "metadata": {},
   "source": [
    "Heurisfic is count by the number of disk is incorrect rod"
   ]
  },
  {
   "cell_type": "code",
   "execution_count": 79,
   "id": "e28883d5",
   "metadata": {},
   "outputs": [],
   "source": [
    "def heuristic(node):\n",
    "    position = node.position\n",
    "    goal = [[],[],[1,2,3,4,5]]\n",
    "    h = 0\n",
    "    for i in range(2):\n",
    "        h+=len(position[i])\n",
    "    return(h)"
   ]
  },
  {
   "cell_type": "code",
   "execution_count": 45,
   "id": "6f8807dd",
   "metadata": {},
   "outputs": [],
   "source": [
    "actionList = ['pole01','pole02','pole10','pole12','pole20','pole21']"
   ]
  },
  {
   "cell_type": "markdown",
   "id": "60a91b16",
   "metadata": {},
   "source": [
    "pole01 = move from pole 0 to pole 1 <br/>\n",
    "pole02 = move from pole 0 to pole 2<br/>\n",
    "pole10 = move from pole 1 to pole 0<br/>\n",
    "etc."
   ]
  },
  {
   "cell_type": "code",
   "execution_count": 46,
   "id": "5989fefb",
   "metadata": {},
   "outputs": [],
   "source": [
    "def transition(node,action):\n",
    "    position = copy.deepcopy(node.position)\n",
    "    cost = node.cost\n",
    "    \n",
    "    #movable disk is it not empty pole\n",
    "    #if the pole that we want to move is empty we can move directly\n",
    "    #if it not empty you  should compare the min of that rod with another rod\n",
    "    #we can move less number to bigger one\n",
    "    if action == 'pole01':\n",
    "        if len(position[0]) !=0:\n",
    "            if len(position[1]) == 0 or min(position[1]) > position[0][0]:\n",
    "                x = position[0].pop(0)\n",
    "                position[1].insert(0,x)\n",
    "            else:\n",
    "                position = None\n",
    "        else:\n",
    "            position = None\n",
    "            \n",
    "    if action == 'pole02':\n",
    "        if len(position[0]) !=0:\n",
    "            if len(position[2]) == 0 or min(position[2]) > position[0][0]:\n",
    "                x = position[0].pop(0)\n",
    "                position[2].insert(0,x)\n",
    "            else:\n",
    "                position = None\n",
    "        else:\n",
    "            position = None\n",
    "            \n",
    "    if action == 'pole10':\n",
    "        if len(position[1]) !=0:\n",
    "            if len(position[0]) == 0 or min(position[0]) > position[1][0]:\n",
    "                x = position[1].pop(0)\n",
    "                position[0].insert(0,x)\n",
    "            else:\n",
    "                position = None\n",
    "        else:\n",
    "            position = None\n",
    "            \n",
    "    if action == 'pole12':\n",
    "        if len(position[1]) !=0:\n",
    "            if len(position[2]) == 0 or min(position[2]) > position[1][0]:\n",
    "                x = position[1].pop(0)\n",
    "                position[2].insert(0,x)\n",
    "            else:\n",
    "                position = None\n",
    "        else:\n",
    "            position = None\n",
    "            \n",
    "    if action == 'pole20':\n",
    "        if len(position[2]) !=0:\n",
    "            if len(position[0]) == 0 or min(position[0]) > position[2][0]:\n",
    "                x = position[2].pop(0)\n",
    "                position[0].insert(0,x)\n",
    "            else:\n",
    "                position = None\n",
    "        else:\n",
    "            position = None\n",
    "            \n",
    "    if action == 'pole21':\n",
    "        if len(position[2]) !=0:\n",
    "            if len(position[1]) == 0 or min(position[1]) > position[2][0]:\n",
    "                x = position[2].pop(0)\n",
    "                position[1].insert(0,x)\n",
    "            else:\n",
    "                position = None\n",
    "        else:\n",
    "            position = None\n",
    "            \n",
    "    child = Node(position, node, cost+1, math.inf)\n",
    "    if position != None:\n",
    "        child.h = heuristic(child)\n",
    "    \n",
    "    return(child)"
   ]
  },
  {
   "cell_type": "markdown",
   "id": "8b60e99b",
   "metadata": {},
   "source": [
    "Check"
   ]
  },
  {
   "cell_type": "code",
   "execution_count": 61,
   "id": "5e539da9",
   "metadata": {},
   "outputs": [
    {
     "name": "stdout",
     "output_type": "stream",
     "text": [
      "[[2], [1, 3], []]\n",
      "[[2], [3], [1]]\n",
      "[[1, 2], [], [3]]\n"
     ]
    }
   ],
   "source": [
    "check = Node([[1,2],[3],[]], None, 0, math.inf)\n",
    "print(transition(check,'pole01').position)\n",
    "print(transition(check,'pole02').position)\n",
    "print(transition(check,'pole12').position)"
   ]
  },
  {
   "cell_type": "code",
   "execution_count": 47,
   "id": "f2ed2fd9",
   "metadata": {},
   "outputs": [],
   "source": [
    "def expand(node):\n",
    "    listNextNode = []\n",
    "    for action in actionList:\n",
    "        child = transition(node,action)\n",
    "        if child.position != None:\n",
    "            listNextNode.append(child)\n",
    "            \n",
    "    return(listNextNode)"
   ]
  },
  {
   "cell_type": "code",
   "execution_count": 48,
   "id": "37f62b91",
   "metadata": {},
   "outputs": [],
   "source": [
    "def printSolution(solution):\n",
    "    for node in solution:\n",
    "        print(node.position, node.h, '\\n')"
   ]
  },
  {
   "cell_type": "code",
   "execution_count": 49,
   "id": "b0d661e2",
   "metadata": {},
   "outputs": [],
   "source": [
    "def sortevaluation(frontier):\n",
    "    new = []\n",
    "    \n",
    "    while len(frontier) > 0:\n",
    "        min_f = math.inf\n",
    "        min_i = 0\n",
    "        for i in range(len(frontier)):\n",
    "            node = frontier[i]\n",
    "            \n",
    "            f = node.cost + node.h\n",
    "            if f<min_f:\n",
    "                min_f = f\n",
    "                min_i = i\n",
    "        new.append(frontier.pop(min_i))\n",
    "    return(new)"
   ]
  },
  {
   "cell_type": "code",
   "execution_count": 90,
   "id": "10439367",
   "metadata": {},
   "outputs": [],
   "source": [
    "def solve(initial):\n",
    "    frontier = [initial]\n",
    "    visited = []\n",
    "    solution = 0\n",
    "    number = 0\n",
    "    while True:\n",
    "        if len(frontier) == 0:\n",
    "            solution = []\n",
    "            break\n",
    "        else:\n",
    "            node = frontier.pop(0)\n",
    "            #print(node.position, node.cost+node.h, len(frontier), '\\n') # print all node\n",
    "            \n",
    "            if  goalCheck(node):\n",
    "                path=[node]\n",
    "                while node.parent != None:\n",
    "                    path.insert(0, node.parent)\n",
    "                    node = node.parent\n",
    "                    number+=1\n",
    "                solution = path\n",
    "                break\n",
    "                \n",
    "            else:\n",
    "                # avoid loop\n",
    "                newNode = expand(node)\n",
    "                for new in newNode:\n",
    "                    repeat = False\n",
    "                    for old in visited:\n",
    "                        if new.position == old.position:\n",
    "                            repeat = True\n",
    "                    if not repeat:\n",
    "                        frontier.append(new)\n",
    "                        visited.append(new)\n",
    "                frontier = sortevaluation(frontier)\n",
    "    return(solution,number)        "
   ]
  },
  {
   "cell_type": "code",
   "execution_count": 93,
   "id": "15de05ab",
   "metadata": {},
   "outputs": [
    {
     "name": "stdout",
     "output_type": "stream",
     "text": [
      "--------------------------------------------------\n",
      "[[1, 2, 3, 4, 5], [], []] 5 \n",
      "\n",
      "[[2, 3, 4, 5], [], [1]] 4 \n",
      "\n",
      "[[3, 4, 5], [2], [1]] 4 \n",
      "\n",
      "[[3, 4, 5], [1, 2], []] 5 \n",
      "\n",
      "[[4, 5], [1, 2], [3]] 4 \n",
      "\n",
      "[[1, 4, 5], [2], [3]] 4 \n",
      "\n",
      "[[1, 4, 5], [], [2, 3]] 3 \n",
      "\n",
      "[[4, 5], [], [1, 2, 3]] 2 \n",
      "\n",
      "[[5], [4], [1, 2, 3]] 2 \n",
      "\n",
      "[[5], [1, 4], [2, 3]] 3 \n",
      "\n",
      "[[2, 5], [1, 4], [3]] 4 \n",
      "\n",
      "[[1, 2, 5], [4], [3]] 4 \n",
      "\n",
      "[[1, 2, 5], [3, 4], []] 5 \n",
      "\n",
      "[[2, 5], [3, 4], [1]] 4 \n",
      "\n",
      "[[5], [2, 3, 4], [1]] 4 \n",
      "\n",
      "[[5], [1, 2, 3, 4], []] 5 \n",
      "\n",
      "[[], [1, 2, 3, 4], [5]] 4 \n",
      "\n",
      "[[1], [2, 3, 4], [5]] 4 \n",
      "\n",
      "[[1], [3, 4], [2, 5]] 3 \n",
      "\n",
      "[[], [3, 4], [1, 2, 5]] 2 \n",
      "\n",
      "[[3], [4], [1, 2, 5]] 2 \n",
      "\n",
      "[[3], [1, 4], [2, 5]] 3 \n",
      "\n",
      "[[2, 3], [1, 4], [5]] 4 \n",
      "\n",
      "[[1, 2, 3], [4], [5]] 4 \n",
      "\n",
      "[[1, 2, 3], [], [4, 5]] 3 \n",
      "\n",
      "[[2, 3], [], [1, 4, 5]] 2 \n",
      "\n",
      "[[3], [2], [1, 4, 5]] 2 \n",
      "\n",
      "[[3], [1, 2], [4, 5]] 3 \n",
      "\n",
      "[[], [1, 2], [3, 4, 5]] 2 \n",
      "\n",
      "[[1], [2], [3, 4, 5]] 2 \n",
      "\n",
      "[[1], [], [2, 3, 4, 5]] 1 \n",
      "\n",
      "[[], [], [1, 2, 3, 4, 5]] 0 \n",
      "\n",
      "number of move 31\n"
     ]
    }
   ],
   "source": [
    "initial = Node([[1,2,3,4,5],[],[]], None, 0, math.inf)\n",
    "initial.h = heuristic(initial)\n",
    "\n",
    "solution,number =solve(initial) \n",
    "print(\"--------------------------------------------------\")\n",
    "printSolution(solution)\n",
    "print('number of move', number)"
   ]
  },
  {
   "cell_type": "code",
   "execution_count": null,
   "id": "66068aed",
   "metadata": {},
   "outputs": [],
   "source": []
  },
  {
   "cell_type": "code",
   "execution_count": null,
   "id": "02ef7b32",
   "metadata": {},
   "outputs": [],
   "source": []
  }
 ],
 "metadata": {
  "kernelspec": {
   "display_name": "Python 3",
   "language": "python",
   "name": "python3"
  },
  "language_info": {
   "codemirror_mode": {
    "name": "ipython",
    "version": 3
   },
   "file_extension": ".py",
   "mimetype": "text/x-python",
   "name": "python",
   "nbconvert_exporter": "python",
   "pygments_lexer": "ipython3",
   "version": "3.8.8"
  }
 },
 "nbformat": 4,
 "nbformat_minor": 5
}
