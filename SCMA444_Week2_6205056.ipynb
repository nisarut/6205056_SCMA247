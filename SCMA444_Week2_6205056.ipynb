{
 "cells": [
  {
   "cell_type": "markdown",
   "id": "94d970d4",
   "metadata": {},
   "source": [
    "## There are 5 rooms for robot to cleaning \n"
   ]
  },
  {
   "cell_type": "code",
   "execution_count": 4,
   "id": "48e221a3",
   "metadata": {},
   "outputs": [],
   "source": [
    "import copy"
   ]
  },
  {
   "cell_type": "markdown",
   "id": "d1de346b",
   "metadata": {},
   "source": [
    "### Node\n",
    "\n",
    "Node in this problem contains\n",
    "\n",
    "* dirtyIndex : Status of dirtyness for each room in the house; True = dirty, False = clean\n",
    "\n",
    "* robotIndex : The current location of the robot (room index where the robot is in)\n",
    "\n",
    "* lastMove : The action that has been applied to the parent node to become the current node; used for displaying the steps of actions\n",
    "\n",
    "* parent: The parent node of this node; used for tracing back the steps of actions\n",
    "#### Adding\n",
    "\n",
    "* <ins> leftIndex: The room that you want to leave uncleaned </ins>\n",
    "\n",
    "\n",
    "Actions can be moving left, moving right, and clean."
   ]
  },
  {
   "cell_type": "code",
   "execution_count": 6,
   "id": "a1e86c53",
   "metadata": {},
   "outputs": [],
   "source": [
    "class Node():\n",
    "    def __init__(self, dirtyIndex, robotIndex, lastMove, parent, leftIndex):\n",
    "        self.dirtyIndex = dirtyIndex\n",
    "        self.robotIndex = robotIndex\n",
    "        self.lastMove = lastMove\n",
    "        self.parent = parent\n",
    "        self.leftIndex = leftIndex\n",
    "\n",
    "actionList = ['left','right', 'clean']"
   ]
  },
  {
   "cell_type": "markdown",
   "id": "1a33b36f",
   "metadata": {},
   "source": [
    "### Adding\n",
    "* change the condition of action \"right\" for 5 rooms \n",
    "* add variable 'leftIndex' in code"
   ]
  },
  {
   "cell_type": "code",
   "execution_count": 8,
   "id": "70bb37e6",
   "metadata": {},
   "outputs": [],
   "source": [
    "def transition(node, action):\n",
    "    dirtyIndex = copy.deepcopy(node.dirtyIndex)\n",
    "    robotIndex = node.robotIndex\n",
    "    leftIndex = node.leftIndex\n",
    "           \n",
    "    if action == \"clean\":\n",
    "        if dirtyIndex[robotIndex] :\n",
    "            dirtyIndex[robotIndex] = False\n",
    "        else:\n",
    "            dirtyIndex = None\n",
    "    if action == \"left\":\n",
    "        if robotIndex > 0:\n",
    "            robotIndex -= 1\n",
    "        else:\n",
    "            dirtyIndex = None    \n",
    "    if action == \"right\":\n",
    "        if robotIndex < 4:\n",
    "            robotIndex += 1\n",
    "        else:\n",
    "            dirtyIndex = None\n",
    "    \n",
    "    child = Node(dirtyIndex, robotIndex, action, node, leftIndex)\n",
    "    \n",
    "    if dirtyIndex != None:\n",
    "        return(child)\n",
    "    else:\n",
    "        return(None)"
   ]
  },
  {
   "cell_type": "code",
   "execution_count": 9,
   "id": "a31a8e9e",
   "metadata": {},
   "outputs": [],
   "source": [
    "def expand(node):\n",
    "    listNextNode = []\n",
    "    for action in actionList:\n",
    "        child = transition(node, action)\n",
    "        if child != None:\n",
    "            listNextNode.append(child)\n",
    "    return(listNextNode)"
   ]
  },
  {
   "cell_type": "code",
   "execution_count": 14,
   "id": "839b45e9",
   "metadata": {
    "scrolled": false
   },
   "outputs": [
    {
     "name": "stdout",
     "output_type": "stream",
     "text": [
      "Children nodes of the initial:\n",
      "[True, True, True, True, True] 0 left <__main__.Node object at 0x0000028E58FD81F0>\n",
      "[True, True, True, True, True] 2 right <__main__.Node object at 0x0000028E58FD81F0>\n",
      "[True, False, True, True, True] 1 clean <__main__.Node object at 0x0000028E58FD81F0>\n"
     ]
    }
   ],
   "source": [
    "initial = Node([True, True, True, True, True], 1, None, None, 4)\n",
    "children = expand(initial)\n",
    "\n",
    "print('Children nodes of the initial:')\n",
    "for node in children:\n",
    "    print(node.dirtyIndex, node.robotIndex, node.lastMove, node.parent)"
   ]
  },
  {
   "cell_type": "markdown",
   "id": "dbded6a9",
   "metadata": {},
   "source": [
    "### Change condition in goalCheck\n",
    "* First, we list all the room index \n",
    "* then remove the index roon of 'leftIndex' out of the list (we don't have to check it because we want it to still dirty)\n",
    "* Focus the rest room is it clean or dirty?\n",
    "\n",
    "if it all room cleaned we finish and get reach the goal, otherwise we still have to searching\n"
   ]
  },
  {
   "cell_type": "code",
   "execution_count": 68,
   "id": "1316496b",
   "metadata": {},
   "outputs": [],
   "source": [
    "def goalCheck(node): \n",
    "    dirtyIndex = node.dirtyIndex\n",
    "    leftIndex = node.leftIndex\n",
    "    x = [0,1,2,3,4]\n",
    "    x.remove(leftIndex)\n",
    "    y = []\n",
    "    for i in x:\n",
    "        if dirtyIndex[i] == False:\n",
    "            y.append(False)\n",
    "        else:\n",
    "            y.append(True)\n",
    "    if not True in y:\n",
    "        return(True)\n",
    "    else:\n",
    "        return(False)"
   ]
  },
  {
   "cell_type": "code",
   "execution_count": 69,
   "id": "12da295e",
   "metadata": {},
   "outputs": [],
   "source": [
    "def solve(initial):    \n",
    "    frontier = [initial]\n",
    "    solution = []    \n",
    "    while True:\n",
    "        if len(frontier) == 0:\n",
    "            break\n",
    "        else:\n",
    "            node = frontier.pop(0)\n",
    "            \n",
    "            if goalCheck(node):\n",
    "                path = [node]\n",
    "                while node.parent != None : \n",
    "                    path.insert(0, node.parent)\n",
    "                    node = node.parent                \n",
    "                solution = path\n",
    "                break\n",
    "            else:\n",
    "                frontier = frontier + expand(node)                 \n",
    "    return(solution)"
   ]
  },
  {
   "cell_type": "code",
   "execution_count": 70,
   "id": "9a050764",
   "metadata": {},
   "outputs": [],
   "source": [
    "def printSolution(solution):\n",
    "    print('Robot action sequence to clean the rooms')\n",
    "    for node in solution:\n",
    "        print('Action: ', node.lastMove, ' Robot is at:', node.robotIndex, ' Rooms status ', node.dirtyIndex)"
   ]
  },
  {
   "cell_type": "markdown",
   "id": "f57225f2",
   "metadata": {},
   "source": [
    "### Condition\n",
    "* the dirtyIndex size is 5\n",
    "* In the beginning, the room that you want to still uncleaned has to be dirty from the beginning"
   ]
  },
  {
   "cell_type": "code",
   "execution_count": 71,
   "id": "85a23bc1",
   "metadata": {},
   "outputs": [
    {
     "name": "stdout",
     "output_type": "stream",
     "text": [
      "Robot action sequence to clean the rooms\n",
      "Action:  None  Robot is at: 1  Rooms status  [True, True, True, True, True]\n",
      "Action:  left  Robot is at: 0  Rooms status  [True, True, True, True, True]\n",
      "Action:  clean  Robot is at: 0  Rooms status  [False, True, True, True, True]\n",
      "Action:  right  Robot is at: 1  Rooms status  [False, True, True, True, True]\n",
      "Action:  clean  Robot is at: 1  Rooms status  [False, False, True, True, True]\n",
      "Action:  right  Robot is at: 2  Rooms status  [False, False, True, True, True]\n",
      "Action:  right  Robot is at: 3  Rooms status  [False, False, True, True, True]\n",
      "Action:  clean  Robot is at: 3  Rooms status  [False, False, True, False, True]\n",
      "Action:  right  Robot is at: 4  Rooms status  [False, False, True, False, True]\n",
      "Action:  clean  Robot is at: 4  Rooms status  [False, False, True, False, False]\n"
     ]
    }
   ],
   "source": [
    "initial = Node([True, True, True, True, True], 1, None, None, 2)\n",
    "sln = solve(initial)\n",
    "printSolution(sln)"
   ]
  },
  {
   "cell_type": "code",
   "execution_count": 72,
   "id": "ce26a059",
   "metadata": {},
   "outputs": [
    {
     "name": "stdout",
     "output_type": "stream",
     "text": [
      "Robot action sequence to clean the rooms\n",
      "Action:  None  Robot is at: 1  Rooms status  [True, True, True, True, True]\n",
      "Action:  left  Robot is at: 0  Rooms status  [True, True, True, True, True]\n",
      "Action:  clean  Robot is at: 0  Rooms status  [False, True, True, True, True]\n",
      "Action:  right  Robot is at: 1  Rooms status  [False, True, True, True, True]\n",
      "Action:  clean  Robot is at: 1  Rooms status  [False, False, True, True, True]\n",
      "Action:  right  Robot is at: 2  Rooms status  [False, False, True, True, True]\n",
      "Action:  clean  Robot is at: 2  Rooms status  [False, False, False, True, True]\n",
      "Action:  right  Robot is at: 3  Rooms status  [False, False, False, True, True]\n",
      "Action:  clean  Robot is at: 3  Rooms status  [False, False, False, False, True]\n"
     ]
    }
   ],
   "source": [
    "A = Node([True, True, True, True, True], 1, None, None, 4)\n",
    "sln = solve(A)\n",
    "printSolution(sln)"
   ]
  }
 ],
 "metadata": {
  "kernelspec": {
   "display_name": "Python 3",
   "language": "python",
   "name": "python3"
  },
  "language_info": {
   "codemirror_mode": {
    "name": "ipython",
    "version": 3
   },
   "file_extension": ".py",
   "mimetype": "text/x-python",
   "name": "python",
   "nbconvert_exporter": "python",
   "pygments_lexer": "ipython3",
   "version": "3.8.8"
  }
 },
 "nbformat": 4,
 "nbformat_minor": 5
}
