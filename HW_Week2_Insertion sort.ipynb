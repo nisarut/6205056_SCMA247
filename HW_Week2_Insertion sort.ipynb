{
 "cells": [
  {
   "cell_type": "code",
   "execution_count": 4,
   "id": "3ff3f817",
   "metadata": {},
   "outputs": [],
   "source": [
    "def insertion_sort(x):\n",
    "    for i in range (1,len(x)):\n",
    "        k = i-1\n",
    "        while k >= 0 and x[k] > x[k+1]:\n",
    "            swap(x,k,k+1)\n",
    "            k = k-1\n",
    "            \n",
    "    return x\n",
    "\n",
    "def swap(x,i,j):\n",
    "    s = x[i]\n",
    "    x[i] = x[j]\n",
    "    x[j] = s\n",
    "    return x\n",
    "        "
   ]
  },
  {
   "cell_type": "code",
   "execution_count": 6,
   "id": "191b538c",
   "metadata": {},
   "outputs": [
    {
     "data": {
      "text/plain": [
       "[-7, -5, -3, 0, 1, 2, 4, 6, 8, 8, 9]"
      ]
     },
     "execution_count": 6,
     "metadata": {},
     "output_type": "execute_result"
    }
   ],
   "source": [
    "a = [0,9,8,8,-7,6,-5,4,-3,2,1]\n",
    "insertion_sort(a)"
   ]
  },
  {
   "cell_type": "code",
   "execution_count": null,
   "id": "dc3efd41",
   "metadata": {},
   "outputs": [],
   "source": []
  },
  {
   "cell_type": "code",
   "execution_count": null,
   "id": "e425b67a",
   "metadata": {},
   "outputs": [],
   "source": []
  }
 ],
 "metadata": {
  "kernelspec": {
   "display_name": "Python 3",
   "language": "python",
   "name": "python3"
  },
  "language_info": {
   "codemirror_mode": {
    "name": "ipython",
    "version": 3
   },
   "file_extension": ".py",
   "mimetype": "text/x-python",
   "name": "python",
   "nbconvert_exporter": "python",
   "pygments_lexer": "ipython3",
   "version": "3.8.8"
  }
 },
 "nbformat": 4,
 "nbformat_minor": 5
}
